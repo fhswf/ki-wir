{
 "cells": [
  {
   "cell_type": "markdown",
   "metadata": {
    "colab_type": "text",
    "id": "view-in-github"
   },
   "source": [
    "<a href=\"https://colab.research.google.com/github/fhswf/ki-wir/blob/main/VAEM.ipynb\" target=\"_parent\"><img src=\"https://colab.research.google.com/assets/colab-badge.svg\" alt=\"Open In Colab\"/></a>"
   ]
  },
  {
   "cell_type": "markdown",
   "metadata": {
    "id": "CMeykhqAHLsA"
   },
   "source": [
    "# Variational Autoencoder\n"
   ]
  },
  {
   "cell_type": "code",
   "execution_count": null,
   "metadata": {
    "colab": {
     "base_uri": "https://localhost:8080/"
    },
    "id": "X1NznsKoMDBK",
    "outputId": "26c0b38b-d415-4594-cb8e-de9d0fa7a4d4"
   },
   "outputs": [],
   "source": [
    "# Setup on Colab\n",
    "!pip install gradio &> /dev/null\n",
    "!pip install pytorch_lightning &> /dev/null\n",
    "!curl -s https://packagecloud.io/install/repositories/github/git-lfs/script.deb.sh | sudo bash \n",
    "!sudo apt-get install git-lfs\n",
    "!git lfs install\n",
    "\n",
    "!if [ ! -e ki_wir ]; then git clone https://github.com/fhswf/ki-wir.git ki_wir; else cd ki_wir; git pull; fi\n",
    "!cd ki_wir; git lfs fetch\n",
    "!cd ki_wir; git lfs checkout\n"
   ]
  },
  {
   "cell_type": "code",
   "execution_count": 1,
   "metadata": {
    "id": "_TMCwyyRLDCG"
   },
   "outputs": [],
   "source": [
    "import gradio as gr\n",
    "import torch\n",
    "import numpy as np\n",
    "import ki_wir.models.vanilla_vae as vanilla_vae\n",
    "import ki_wir.models.logcosh_vae as logcosh_vae\n",
    "import ki_wir.models.dfcvae as dfc_vae\n",
    "import ki_wir.models.experiment as experiment\n",
    "\n",
    "from PIL import Image\n",
    "from torchvision import transforms\n",
    "import torchvision.utils as vutils"
   ]
  },
  {
   "cell_type": "code",
   "execution_count": 2,
   "metadata": {},
   "outputs": [
    {
     "name": "stdout",
     "output_type": "stream",
     "text": [
      "env: CUDA_VISIBLE_DEVICES=1\n"
     ]
    }
   ],
   "source": [
    "%env CUDA_VISIBLE_DEVICES=1\n",
    "device = torch.device(\"cuda:0\")"
   ]
  },
  {
   "cell_type": "code",
   "execution_count": 4,
   "metadata": {
    "id": "hTwjYZ7iM4cA"
   },
   "outputs": [],
   "source": [
    "params={\"in_channels\": 3, \"latent_dim\": 128, \"img_size\": 64}\n",
    "config = { \"DFC\": [ dfc_vae.DFCVAE, \"ki_wir/pretrained/dfc.ckpt\" ], \\\n",
    "          \"LogCosh\": [ logcosh_vae.LogCoshVAE, \"ki_wir/pretrained/logcosh.ckpt\" ], \\\n",
    "          \"Vanilla\": [ vanilla_vae.VanillaVAE, \"ki_wir/pretrained/vanilla.ckpt\" ] }"
   ]
  },
  {
   "cell_type": "code",
   "execution_count": 5,
   "metadata": {
    "id": "hTwjYZ7iM4cA"
   },
   "outputs": [],
   "source": [
    "models = {}\n",
    "\n",
    "for m, c in config.items():\n",
    "    model = c[0](**params)\n",
    "    exp = experiment.VAEXperiment(model, params)\n",
    "    exp.load_from_checkpoint(c[1], vae_model=model, params=params).to(device)\n",
    "    models[m] = exp "
   ]
  },
  {
   "cell_type": "code",
   "execution_count": 6,
   "metadata": {},
   "outputs": [
    {
     "data": {
      "text/plain": [
       "{'DFC': VAEXperiment(\n",
       "   (model): DFCVAE(\n",
       "     (encoder): Sequential(\n",
       "       (0): Sequential(\n",
       "         (0): Conv2d(3, 32, kernel_size=(3, 3), stride=(2, 2), padding=(1, 1))\n",
       "         (1): BatchNorm2d(32, eps=1e-05, momentum=0.1, affine=True, track_running_stats=True)\n",
       "         (2): LeakyReLU(negative_slope=0.01)\n",
       "       )\n",
       "       (1): Sequential(\n",
       "         (0): Conv2d(32, 64, kernel_size=(3, 3), stride=(2, 2), padding=(1, 1))\n",
       "         (1): BatchNorm2d(64, eps=1e-05, momentum=0.1, affine=True, track_running_stats=True)\n",
       "         (2): LeakyReLU(negative_slope=0.01)\n",
       "       )\n",
       "       (2): Sequential(\n",
       "         (0): Conv2d(64, 128, kernel_size=(3, 3), stride=(2, 2), padding=(1, 1))\n",
       "         (1): BatchNorm2d(128, eps=1e-05, momentum=0.1, affine=True, track_running_stats=True)\n",
       "         (2): LeakyReLU(negative_slope=0.01)\n",
       "       )\n",
       "       (3): Sequential(\n",
       "         (0): Conv2d(128, 256, kernel_size=(3, 3), stride=(2, 2), padding=(1, 1))\n",
       "         (1): BatchNorm2d(256, eps=1e-05, momentum=0.1, affine=True, track_running_stats=True)\n",
       "         (2): LeakyReLU(negative_slope=0.01)\n",
       "       )\n",
       "       (4): Sequential(\n",
       "         (0): Conv2d(256, 512, kernel_size=(3, 3), stride=(2, 2), padding=(1, 1))\n",
       "         (1): BatchNorm2d(512, eps=1e-05, momentum=0.1, affine=True, track_running_stats=True)\n",
       "         (2): LeakyReLU(negative_slope=0.01)\n",
       "       )\n",
       "     )\n",
       "     (fc_mu): Linear(in_features=2048, out_features=128, bias=True)\n",
       "     (fc_var): Linear(in_features=2048, out_features=128, bias=True)\n",
       "     (decoder_input): Linear(in_features=128, out_features=2048, bias=True)\n",
       "     (decoder): Sequential(\n",
       "       (0): Sequential(\n",
       "         (0): ConvTranspose2d(512, 256, kernel_size=(3, 3), stride=(2, 2), padding=(1, 1), output_padding=(1, 1))\n",
       "         (1): BatchNorm2d(256, eps=1e-05, momentum=0.1, affine=True, track_running_stats=True)\n",
       "         (2): LeakyReLU(negative_slope=0.01)\n",
       "       )\n",
       "       (1): Sequential(\n",
       "         (0): ConvTranspose2d(256, 128, kernel_size=(3, 3), stride=(2, 2), padding=(1, 1), output_padding=(1, 1))\n",
       "         (1): BatchNorm2d(128, eps=1e-05, momentum=0.1, affine=True, track_running_stats=True)\n",
       "         (2): LeakyReLU(negative_slope=0.01)\n",
       "       )\n",
       "       (2): Sequential(\n",
       "         (0): ConvTranspose2d(128, 64, kernel_size=(3, 3), stride=(2, 2), padding=(1, 1), output_padding=(1, 1))\n",
       "         (1): BatchNorm2d(64, eps=1e-05, momentum=0.1, affine=True, track_running_stats=True)\n",
       "         (2): LeakyReLU(negative_slope=0.01)\n",
       "       )\n",
       "       (3): Sequential(\n",
       "         (0): ConvTranspose2d(64, 32, kernel_size=(3, 3), stride=(2, 2), padding=(1, 1), output_padding=(1, 1))\n",
       "         (1): BatchNorm2d(32, eps=1e-05, momentum=0.1, affine=True, track_running_stats=True)\n",
       "         (2): LeakyReLU(negative_slope=0.01)\n",
       "       )\n",
       "     )\n",
       "     (final_layer): Sequential(\n",
       "       (0): ConvTranspose2d(32, 32, kernel_size=(3, 3), stride=(2, 2), padding=(1, 1), output_padding=(1, 1))\n",
       "       (1): BatchNorm2d(32, eps=1e-05, momentum=0.1, affine=True, track_running_stats=True)\n",
       "       (2): LeakyReLU(negative_slope=0.01)\n",
       "       (3): Conv2d(32, 3, kernel_size=(3, 3), stride=(1, 1), padding=(1, 1))\n",
       "       (4): Tanh()\n",
       "     )\n",
       "     (feature_network): VGG(\n",
       "       (features): Sequential(\n",
       "         (0): Conv2d(3, 64, kernel_size=(3, 3), stride=(1, 1), padding=(1, 1))\n",
       "         (1): BatchNorm2d(64, eps=1e-05, momentum=0.1, affine=True, track_running_stats=True)\n",
       "         (2): ReLU(inplace=True)\n",
       "         (3): Conv2d(64, 64, kernel_size=(3, 3), stride=(1, 1), padding=(1, 1))\n",
       "         (4): BatchNorm2d(64, eps=1e-05, momentum=0.1, affine=True, track_running_stats=True)\n",
       "         (5): ReLU(inplace=True)\n",
       "         (6): MaxPool2d(kernel_size=2, stride=2, padding=0, dilation=1, ceil_mode=False)\n",
       "         (7): Conv2d(64, 128, kernel_size=(3, 3), stride=(1, 1), padding=(1, 1))\n",
       "         (8): BatchNorm2d(128, eps=1e-05, momentum=0.1, affine=True, track_running_stats=True)\n",
       "         (9): ReLU(inplace=True)\n",
       "         (10): Conv2d(128, 128, kernel_size=(3, 3), stride=(1, 1), padding=(1, 1))\n",
       "         (11): BatchNorm2d(128, eps=1e-05, momentum=0.1, affine=True, track_running_stats=True)\n",
       "         (12): ReLU(inplace=True)\n",
       "         (13): MaxPool2d(kernel_size=2, stride=2, padding=0, dilation=1, ceil_mode=False)\n",
       "         (14): Conv2d(128, 256, kernel_size=(3, 3), stride=(1, 1), padding=(1, 1))\n",
       "         (15): BatchNorm2d(256, eps=1e-05, momentum=0.1, affine=True, track_running_stats=True)\n",
       "         (16): ReLU(inplace=True)\n",
       "         (17): Conv2d(256, 256, kernel_size=(3, 3), stride=(1, 1), padding=(1, 1))\n",
       "         (18): BatchNorm2d(256, eps=1e-05, momentum=0.1, affine=True, track_running_stats=True)\n",
       "         (19): ReLU(inplace=True)\n",
       "         (20): Conv2d(256, 256, kernel_size=(3, 3), stride=(1, 1), padding=(1, 1))\n",
       "         (21): BatchNorm2d(256, eps=1e-05, momentum=0.1, affine=True, track_running_stats=True)\n",
       "         (22): ReLU(inplace=True)\n",
       "         (23): Conv2d(256, 256, kernel_size=(3, 3), stride=(1, 1), padding=(1, 1))\n",
       "         (24): BatchNorm2d(256, eps=1e-05, momentum=0.1, affine=True, track_running_stats=True)\n",
       "         (25): ReLU(inplace=True)\n",
       "         (26): MaxPool2d(kernel_size=2, stride=2, padding=0, dilation=1, ceil_mode=False)\n",
       "         (27): Conv2d(256, 512, kernel_size=(3, 3), stride=(1, 1), padding=(1, 1))\n",
       "         (28): BatchNorm2d(512, eps=1e-05, momentum=0.1, affine=True, track_running_stats=True)\n",
       "         (29): ReLU(inplace=True)\n",
       "         (30): Conv2d(512, 512, kernel_size=(3, 3), stride=(1, 1), padding=(1, 1))\n",
       "         (31): BatchNorm2d(512, eps=1e-05, momentum=0.1, affine=True, track_running_stats=True)\n",
       "         (32): ReLU(inplace=True)\n",
       "         (33): Conv2d(512, 512, kernel_size=(3, 3), stride=(1, 1), padding=(1, 1))\n",
       "         (34): BatchNorm2d(512, eps=1e-05, momentum=0.1, affine=True, track_running_stats=True)\n",
       "         (35): ReLU(inplace=True)\n",
       "         (36): Conv2d(512, 512, kernel_size=(3, 3), stride=(1, 1), padding=(1, 1))\n",
       "         (37): BatchNorm2d(512, eps=1e-05, momentum=0.1, affine=True, track_running_stats=True)\n",
       "         (38): ReLU(inplace=True)\n",
       "         (39): MaxPool2d(kernel_size=2, stride=2, padding=0, dilation=1, ceil_mode=False)\n",
       "         (40): Conv2d(512, 512, kernel_size=(3, 3), stride=(1, 1), padding=(1, 1))\n",
       "         (41): BatchNorm2d(512, eps=1e-05, momentum=0.1, affine=True, track_running_stats=True)\n",
       "         (42): ReLU(inplace=True)\n",
       "         (43): Conv2d(512, 512, kernel_size=(3, 3), stride=(1, 1), padding=(1, 1))\n",
       "         (44): BatchNorm2d(512, eps=1e-05, momentum=0.1, affine=True, track_running_stats=True)\n",
       "         (45): ReLU(inplace=True)\n",
       "         (46): Conv2d(512, 512, kernel_size=(3, 3), stride=(1, 1), padding=(1, 1))\n",
       "         (47): BatchNorm2d(512, eps=1e-05, momentum=0.1, affine=True, track_running_stats=True)\n",
       "         (48): ReLU(inplace=True)\n",
       "         (49): Conv2d(512, 512, kernel_size=(3, 3), stride=(1, 1), padding=(1, 1))\n",
       "         (50): BatchNorm2d(512, eps=1e-05, momentum=0.1, affine=True, track_running_stats=True)\n",
       "         (51): ReLU(inplace=True)\n",
       "         (52): MaxPool2d(kernel_size=2, stride=2, padding=0, dilation=1, ceil_mode=False)\n",
       "       )\n",
       "       (avgpool): AdaptiveAvgPool2d(output_size=(7, 7))\n",
       "       (classifier): Sequential(\n",
       "         (0): Linear(in_features=25088, out_features=4096, bias=True)\n",
       "         (1): ReLU(inplace=True)\n",
       "         (2): Dropout(p=0.5, inplace=False)\n",
       "         (3): Linear(in_features=4096, out_features=4096, bias=True)\n",
       "         (4): ReLU(inplace=True)\n",
       "         (5): Dropout(p=0.5, inplace=False)\n",
       "         (6): Linear(in_features=4096, out_features=1000, bias=True)\n",
       "       )\n",
       "     )\n",
       "   )\n",
       " ),\n",
       " 'LogCosh': VAEXperiment(\n",
       "   (model): LogCoshVAE(\n",
       "     (encoder): Sequential(\n",
       "       (0): Sequential(\n",
       "         (0): Conv2d(3, 32, kernel_size=(3, 3), stride=(2, 2), padding=(1, 1))\n",
       "         (1): BatchNorm2d(32, eps=1e-05, momentum=0.1, affine=True, track_running_stats=True)\n",
       "         (2): LeakyReLU(negative_slope=0.01)\n",
       "       )\n",
       "       (1): Sequential(\n",
       "         (0): Conv2d(32, 64, kernel_size=(3, 3), stride=(2, 2), padding=(1, 1))\n",
       "         (1): BatchNorm2d(64, eps=1e-05, momentum=0.1, affine=True, track_running_stats=True)\n",
       "         (2): LeakyReLU(negative_slope=0.01)\n",
       "       )\n",
       "       (2): Sequential(\n",
       "         (0): Conv2d(64, 128, kernel_size=(3, 3), stride=(2, 2), padding=(1, 1))\n",
       "         (1): BatchNorm2d(128, eps=1e-05, momentum=0.1, affine=True, track_running_stats=True)\n",
       "         (2): LeakyReLU(negative_slope=0.01)\n",
       "       )\n",
       "       (3): Sequential(\n",
       "         (0): Conv2d(128, 256, kernel_size=(3, 3), stride=(2, 2), padding=(1, 1))\n",
       "         (1): BatchNorm2d(256, eps=1e-05, momentum=0.1, affine=True, track_running_stats=True)\n",
       "         (2): LeakyReLU(negative_slope=0.01)\n",
       "       )\n",
       "       (4): Sequential(\n",
       "         (0): Conv2d(256, 512, kernel_size=(3, 3), stride=(2, 2), padding=(1, 1))\n",
       "         (1): BatchNorm2d(512, eps=1e-05, momentum=0.1, affine=True, track_running_stats=True)\n",
       "         (2): LeakyReLU(negative_slope=0.01)\n",
       "       )\n",
       "     )\n",
       "     (fc_mu): Linear(in_features=2048, out_features=128, bias=True)\n",
       "     (fc_var): Linear(in_features=2048, out_features=128, bias=True)\n",
       "     (decoder_input): Linear(in_features=128, out_features=2048, bias=True)\n",
       "     (decoder): Sequential(\n",
       "       (0): Sequential(\n",
       "         (0): ConvTranspose2d(512, 256, kernel_size=(3, 3), stride=(2, 2), padding=(1, 1), output_padding=(1, 1))\n",
       "         (1): BatchNorm2d(256, eps=1e-05, momentum=0.1, affine=True, track_running_stats=True)\n",
       "         (2): LeakyReLU(negative_slope=0.01)\n",
       "       )\n",
       "       (1): Sequential(\n",
       "         (0): ConvTranspose2d(256, 128, kernel_size=(3, 3), stride=(2, 2), padding=(1, 1), output_padding=(1, 1))\n",
       "         (1): BatchNorm2d(128, eps=1e-05, momentum=0.1, affine=True, track_running_stats=True)\n",
       "         (2): LeakyReLU(negative_slope=0.01)\n",
       "       )\n",
       "       (2): Sequential(\n",
       "         (0): ConvTranspose2d(128, 64, kernel_size=(3, 3), stride=(2, 2), padding=(1, 1), output_padding=(1, 1))\n",
       "         (1): BatchNorm2d(64, eps=1e-05, momentum=0.1, affine=True, track_running_stats=True)\n",
       "         (2): LeakyReLU(negative_slope=0.01)\n",
       "       )\n",
       "       (3): Sequential(\n",
       "         (0): ConvTranspose2d(64, 32, kernel_size=(3, 3), stride=(2, 2), padding=(1, 1), output_padding=(1, 1))\n",
       "         (1): BatchNorm2d(32, eps=1e-05, momentum=0.1, affine=True, track_running_stats=True)\n",
       "         (2): LeakyReLU(negative_slope=0.01)\n",
       "       )\n",
       "     )\n",
       "     (final_layer): Sequential(\n",
       "       (0): ConvTranspose2d(32, 32, kernel_size=(3, 3), stride=(2, 2), padding=(1, 1), output_padding=(1, 1))\n",
       "       (1): BatchNorm2d(32, eps=1e-05, momentum=0.1, affine=True, track_running_stats=True)\n",
       "       (2): LeakyReLU(negative_slope=0.01)\n",
       "       (3): Conv2d(32, 3, kernel_size=(3, 3), stride=(1, 1), padding=(1, 1))\n",
       "       (4): Tanh()\n",
       "     )\n",
       "   )\n",
       " ),\n",
       " 'Vanilla': VAEXperiment(\n",
       "   (model): VanillaVAE(\n",
       "     (encoder): Sequential(\n",
       "       (0): Sequential(\n",
       "         (0): Conv2d(3, 32, kernel_size=(3, 3), stride=(2, 2), padding=(1, 1))\n",
       "         (1): BatchNorm2d(32, eps=1e-05, momentum=0.1, affine=True, track_running_stats=True)\n",
       "         (2): LeakyReLU(negative_slope=0.01)\n",
       "       )\n",
       "       (1): Sequential(\n",
       "         (0): Conv2d(32, 64, kernel_size=(3, 3), stride=(2, 2), padding=(1, 1))\n",
       "         (1): BatchNorm2d(64, eps=1e-05, momentum=0.1, affine=True, track_running_stats=True)\n",
       "         (2): LeakyReLU(negative_slope=0.01)\n",
       "       )\n",
       "       (2): Sequential(\n",
       "         (0): Conv2d(64, 128, kernel_size=(3, 3), stride=(2, 2), padding=(1, 1))\n",
       "         (1): BatchNorm2d(128, eps=1e-05, momentum=0.1, affine=True, track_running_stats=True)\n",
       "         (2): LeakyReLU(negative_slope=0.01)\n",
       "       )\n",
       "       (3): Sequential(\n",
       "         (0): Conv2d(128, 256, kernel_size=(3, 3), stride=(2, 2), padding=(1, 1))\n",
       "         (1): BatchNorm2d(256, eps=1e-05, momentum=0.1, affine=True, track_running_stats=True)\n",
       "         (2): LeakyReLU(negative_slope=0.01)\n",
       "       )\n",
       "       (4): Sequential(\n",
       "         (0): Conv2d(256, 512, kernel_size=(3, 3), stride=(2, 2), padding=(1, 1))\n",
       "         (1): BatchNorm2d(512, eps=1e-05, momentum=0.1, affine=True, track_running_stats=True)\n",
       "         (2): LeakyReLU(negative_slope=0.01)\n",
       "       )\n",
       "     )\n",
       "     (fc_mu): Linear(in_features=2048, out_features=128, bias=True)\n",
       "     (fc_var): Linear(in_features=2048, out_features=128, bias=True)\n",
       "     (decoder_input): Linear(in_features=128, out_features=2048, bias=True)\n",
       "     (decoder): Sequential(\n",
       "       (0): Sequential(\n",
       "         (0): ConvTranspose2d(512, 256, kernel_size=(3, 3), stride=(2, 2), padding=(1, 1), output_padding=(1, 1))\n",
       "         (1): BatchNorm2d(256, eps=1e-05, momentum=0.1, affine=True, track_running_stats=True)\n",
       "         (2): LeakyReLU(negative_slope=0.01)\n",
       "       )\n",
       "       (1): Sequential(\n",
       "         (0): ConvTranspose2d(256, 128, kernel_size=(3, 3), stride=(2, 2), padding=(1, 1), output_padding=(1, 1))\n",
       "         (1): BatchNorm2d(128, eps=1e-05, momentum=0.1, affine=True, track_running_stats=True)\n",
       "         (2): LeakyReLU(negative_slope=0.01)\n",
       "       )\n",
       "       (2): Sequential(\n",
       "         (0): ConvTranspose2d(128, 64, kernel_size=(3, 3), stride=(2, 2), padding=(1, 1), output_padding=(1, 1))\n",
       "         (1): BatchNorm2d(64, eps=1e-05, momentum=0.1, affine=True, track_running_stats=True)\n",
       "         (2): LeakyReLU(negative_slope=0.01)\n",
       "       )\n",
       "       (3): Sequential(\n",
       "         (0): ConvTranspose2d(64, 32, kernel_size=(3, 3), stride=(2, 2), padding=(1, 1), output_padding=(1, 1))\n",
       "         (1): BatchNorm2d(32, eps=1e-05, momentum=0.1, affine=True, track_running_stats=True)\n",
       "         (2): LeakyReLU(negative_slope=0.01)\n",
       "       )\n",
       "     )\n",
       "     (final_layer): Sequential(\n",
       "       (0): ConvTranspose2d(32, 32, kernel_size=(3, 3), stride=(2, 2), padding=(1, 1), output_padding=(1, 1))\n",
       "       (1): BatchNorm2d(32, eps=1e-05, momentum=0.1, affine=True, track_running_stats=True)\n",
       "       (2): LeakyReLU(negative_slope=0.01)\n",
       "       (3): Conv2d(32, 3, kernel_size=(3, 3), stride=(1, 1), padding=(1, 1))\n",
       "       (4): Tanh()\n",
       "     )\n",
       "   )\n",
       " )}"
      ]
     },
     "execution_count": 6,
     "metadata": {},
     "output_type": "execute_result"
    }
   ],
   "source": [
    "models"
   ]
  },
  {
   "cell_type": "code",
   "execution_count": 23,
   "metadata": {
    "id": "hTwjYZ7iM4cA"
   },
   "outputs": [],
   "source": [
    "def reconstruct(name, image1, image2, alpha):\n",
    "  SetRange = transforms.Lambda(lambda X: 2 * X - 1.)\n",
    "  img1 = Image.fromarray(image1)\n",
    "  img2 = Image.fromarray(image2)  \n",
    "  img1 = transforms.Compose([\n",
    "        transforms.Resize((64, 64)),\n",
    "        transforms.ToTensor(),\n",
    "        ])(img1)\n",
    "  img2 = transforms.Compose([\n",
    "        transforms.Resize((64, 64)),\n",
    "        transforms.ToTensor(),\n",
    "        ])(img2)\n",
    "\n",
    "  img = alpha*img2 + (1-alpha)*img1\n",
    "  orig = transforms.ToPILImage(mode='RGB')(img)\n",
    "  img = SetRange(img)\n",
    "\n",
    "  #img = torch.moveaxis(img, 0, -1)\n",
    "  img = torch.unsqueeze(img.cuda(), 0)\n",
    "  dec = models[name].model.generate(img, latent_dim=128)\n",
    " \n",
    "  dec = torch.squeeze(dec[0], 0)\n",
    "  dec = transforms.Lambda(lambda X: 0.5 * (X + 1.))(dec)\n",
    "\n",
    "  return transforms.ToPILImage(mode='RGB')(dec)"
   ]
  },
  {
   "cell_type": "code",
   "execution_count": 8,
   "metadata": {
    "id": "99KmCnp_lq9Z"
   },
   "outputs": [],
   "source": [
    "test_label = \"\"\n",
    "\n",
    "for name in models.keys():\n",
    "    exp = models[name]\n",
    "    exp.curr_device = device\n",
    "    samples = exp.model.sample(144, device)\n",
    "    vutils.save_image(samples.cpu().data,\n",
    "                      f\"sample_{name}.png\",\n",
    "                      normalize=True,\n",
    "                      nrow=12)"
   ]
  },
  {
   "cell_type": "code",
   "execution_count": null,
   "metadata": {
    "colab": {
     "base_uri": "https://localhost:8080/",
     "height": 924
    },
    "id": "2Tb5jUK-9Aer",
    "outputId": "0405d55b-9b03-40ca-ae30-be320201b60b"
   },
   "outputs": [
    {
     "name": "stdout",
     "output_type": "stream",
     "text": [
      "\n",
      "This share link will expire in 72 hours. To get longer links, send an email to: support@gradio.app\n"
     ]
    },
    {
     "data": {
      "text/html": [
       "\n",
       "        <iframe\n",
       "            width=\"900\"\n",
       "            height=\"500\"\n",
       "            frameborder=\"0\"\n",
       "            allowfullscreen\n",
       "        ></iframe>\n",
       "        "
      ],
      "text/plain": [
       "<IPython.lib.display.IFrame at 0x7f8b13602e48>"
      ]
     },
     "metadata": {},
     "output_type": "display_data"
    }
   ],
   "source": [
    "model = gr.inputs.Dropdown(list(models.keys()), type=\"value\", default=None, label=\"Model\")\n",
    "alpha = gr.inputs.Slider(minimum=0, maximum=1.0, step=0.1, default=0, label=None)\n",
    "out1 = gr.outputs.Image(type=\"auto\", label=\"original\")\n",
    "out2 = gr.outputs.Image(type=\"auto\", label=\"reconstructed\")\n",
    "iface = gr.Interface(fn=reconstruct, layout=\"vertical\", inputs=[model, \"image\", \"image\", alpha], outputs=out1).launch(debug=True, share=True)"
   ]
  },
  {
   "cell_type": "code",
   "execution_count": null,
   "metadata": {},
   "outputs": [],
   "source": []
  }
 ],
 "metadata": {
  "accelerator": "GPU",
  "colab": {
   "authorship_tag": "ABX9TyPUZE7llESFxeO94DoKVRzj",
   "collapsed_sections": [],
   "include_colab_link": true,
   "name": "VAEM.ipynb",
   "provenance": []
  },
  "kernelspec": {
   "display_name": "Python 3",
   "language": "python",
   "name": "python3"
  },
  "language_info": {
   "codemirror_mode": {
    "name": "ipython",
    "version": 3
   },
   "file_extension": ".py",
   "mimetype": "text/x-python",
   "name": "python",
   "nbconvert_exporter": "python",
   "pygments_lexer": "ipython3",
   "version": "3.7.3"
  }
 },
 "nbformat": 4,
 "nbformat_minor": 4
}

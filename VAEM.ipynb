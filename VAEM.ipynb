{
  "nbformat": 4,
  "nbformat_minor": 0,
  "metadata": {
    "colab": {
      "name": "VAEM.ipynb",
      "provenance": [],
      "collapsed_sections": [],
      "authorship_tag": "ABX9TyNYB3dLKTQMoOmT4BWmUr42",
      "include_colab_link": true
    },
    "kernelspec": {
      "name": "python3",
      "display_name": "Python 3"
    },
    "language_info": {
      "name": "python"
    },
    "accelerator": "GPU"
  },
  "cells": [
    {
      "cell_type": "markdown",
      "metadata": {
        "id": "view-in-github",
        "colab_type": "text"
      },
      "source": [
        "<a href=\"https://colab.research.google.com/github/fhswf/ki-wir/blob/main/VAEM.ipynb\" target=\"_parent\"><img src=\"https://colab.research.google.com/assets/colab-badge.svg\" alt=\"Open In Colab\"/></a>"
      ]
    },
    {
      "cell_type": "markdown",
      "metadata": {
        "id": "CMeykhqAHLsA"
      },
      "source": [
        "# Variational Autoencoder\n"
      ]
    },
    {
      "cell_type": "code",
      "metadata": {
        "colab": {
          "base_uri": "https://localhost:8080/"
        },
        "id": "X1NznsKoMDBK",
        "outputId": "e60ad254-d548-4652-89bb-5fe438df97d8"
      },
      "source": [
        "# Setup on Colab\n",
        "!pip install gradio &> /dev/null\n",
        "!if [ ! -e ki_wir ]; then git clone https://github.com/fhswf/ki-wir.git ki_wir; else cd ki_wir; git pull; fi"
      ],
      "execution_count": 2,
      "outputs": [
        {
          "output_type": "stream",
          "name": "stdout",
          "text": [
            "Cloning into 'ki_wir'...\n",
            "remote: Enumerating objects: 21, done.\u001b[K\n",
            "remote: Counting objects: 100% (21/21), done.\u001b[K\n",
            "remote: Compressing objects: 100% (16/16), done.\u001b[K\n",
            "remote: Total 21 (delta 7), reused 11 (delta 3), pack-reused 0\u001b[K\n",
            "Unpacking objects: 100% (21/21), done.\n"
          ]
        }
      ]
    },
    {
      "cell_type": "code",
      "metadata": {
        "id": "_TMCwyyRLDCG"
      },
      "source": [
        "import gradio as gr\n",
        "import torch\n",
        "import numpy as np\n",
        "import ki_wir.models.simple_vae as vae\n",
        "\n",
        "from PIL import Image\n",
        "from torchvision import transforms"
      ],
      "execution_count": 28,
      "outputs": []
    },
    {
      "cell_type": "code",
      "metadata": {
        "id": "hTwjYZ7iM4cA"
      },
      "source": [
        "device = torch.device(\"cuda:0\")\n",
        "model = vae.VAE(is_train=False).to(device)\n",
        "model.load_state_dict(torch.load(\"ki_wir/pretrained/vae-123.pth\", map_location=device))\n",
        "\n",
        "def reconstruct(img):\n",
        "  print(f\"{img.shape}\")\n",
        "  img = Image.fromarray(img)\n",
        "  img = transforms.Compose([\n",
        "        transforms.Resize((64, 64)),\n",
        "        transforms.ToTensor(),\n",
        "        ])(img)\n",
        "\n",
        "  orig = transforms.ToPILImage(mode='RGB')(img)\n",
        "  img = torch.unsqueeze(img.cuda(), 0)\n",
        "  enc = model.encode(img)\n",
        "  dec = model.decode(enc)\n",
        "  dec = torch.squeeze(dec, 0)\n",
        "\n",
        "  print(f\"{dec.shape}\")\n",
        "  return [orig, transforms.ToPILImage(mode='RGB')(dec)]"
      ],
      "execution_count": 57,
      "outputs": []
    },
    {
      "cell_type": "code",
      "metadata": {
        "colab": {
          "base_uri": "https://localhost:8080/",
          "height": 645
        },
        "id": "2Tb5jUK-9Aer",
        "outputId": "25ac1f22-fc0f-4df1-c4d7-868069977cdf"
      },
      "source": [
        "iface = gr.Interface(fn=reconstruct, inputs=\"image\", outputs=[\"image\", \"image\"]).launch(debug=True)"
      ],
      "execution_count": null,
      "outputs": [
        {
          "output_type": "stream",
          "name": "stdout",
          "text": [
            "Colab notebook detected. This cell will run indefinitely so that you can see errors and logs. To turn off, set debug=False in launch().\n",
            "Running on public URL: https://27155.gradio.app\n",
            "\n",
            "This share link will expire in 72 hours. To get longer links, send an email to: support@gradio.app\n"
          ]
        },
        {
          "output_type": "display_data",
          "data": {
            "text/html": [
              "\n",
              "        <iframe\n",
              "            width=\"900\"\n",
              "            height=\"500\"\n",
              "            src=\"https://27155.gradio.app\"\n",
              "            frameborder=\"0\"\n",
              "            allowfullscreen\n",
              "        ></iframe>\n",
              "        "
            ],
            "text/plain": [
              "<IPython.lib.display.IFrame at 0x7f2d5e8f7410>"
            ]
          },
          "metadata": {}
        },
        {
          "output_type": "stream",
          "name": "stdout",
          "text": [
            "(400, 400, 3)\n",
            "torch.Size([3, 64, 64])\n"
          ]
        }
      ]
    }
  ]
}